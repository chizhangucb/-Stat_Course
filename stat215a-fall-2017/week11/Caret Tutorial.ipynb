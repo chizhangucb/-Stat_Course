{
 "cells": [
  {
   "cell_type": "markdown",
   "metadata": {},
   "source": [
    "# Caret: an R package for machine learning"
   ]
  },
  {
   "cell_type": "markdown",
   "metadata": {},
   "source": [
    "Materials prepared by Rebecca Barter. Package developed by Max Kuhn.\n",
    "\n",
    "R has a wide number of packages for machine learning (ML), which is great, but also quite frustrating since each package was designed independently and has very different syntax, inputs and outputs.\n",
    "\n",
    "This means that if you want to do machine learning in R, you have to learn a large number of separate methods.\n",
    "\n",
    "Recognizing this, Max Kuhn (at the time working in drug discovery at Pfizer, now at RStudio) decided to put together a single package for performing any machine learning method you like. This package is called `caret` and can be thought of as scikit-learn for R. Caret stands for **C**lassification **A**nd **Re**gression **T**raining.\n",
    "\n",
    "![image](caret.png)"
   ]
  },
  {
   "cell_type": "markdown",
   "metadata": {},
   "source": [
    "Not only does caret allow you to run a plethora of ML methods, it also provides tools for auxiliary techniques such as:\n",
    "\n",
    "* Data preparation (imputation, centering/scaling data, removing correlated predictors, reducing skewness)\n",
    "\n",
    "* Data splitting\n",
    "\n",
    "* Variable selection\n",
    "\n",
    "* Model evaluation\n",
    "\n",
    "An extensive vignette for caret can be found here: https://topepo.github.io/caret/index.html"
   ]
  },
  {
   "cell_type": "markdown",
   "metadata": {},
   "source": [
    "## A simple view of caret: the default `train` function"
   ]
  },
  {
   "cell_type": "markdown",
   "metadata": {},
   "source": [
    "To implement your machine learning model of choice using caret you use the `train` function. The options for the method (model) are many and are listed here: https://topepo.github.io/caret/available-models.html. In the example below, we will use the ranger implementation of random forest."
   ]
  },
  {
   "cell_type": "code",
   "execution_count": 1,
   "metadata": {
    "collapsed": false
   },
   "outputs": [
    {
     "name": "stderr",
     "output_type": "stream",
     "text": [
      "Loading required package: lattice\n",
      "Loading required package: ggplot2\n",
      "\n",
      "Attaching package: ‘dplyr’\n",
      "\n",
      "The following objects are masked from ‘package:stats’:\n",
      "\n",
      "    filter, lag\n",
      "\n",
      "The following objects are masked from ‘package:base’:\n",
      "\n",
      "    intersect, setdiff, setequal, union\n",
      "\n"
     ]
    },
    {
     "data": {
      "text/html": [
       "<table>\n",
       "<thead><tr><th scope=col>sex</th><th scope=col>length</th><th scope=col>diameter</th><th scope=col>height</th><th scope=col>whole.weight</th><th scope=col>shucked.weight</th><th scope=col>viscera.weight</th><th scope=col>shell.weight</th><th scope=col>old</th></tr></thead>\n",
       "<tbody>\n",
       "\t<tr><td>M     </td><td>0.350 </td><td>0.265 </td><td>0.090 </td><td>0.2255</td><td>0.0995</td><td>0.0485</td><td>0.070 </td><td> TRUE </td></tr>\n",
       "\t<tr><td>F     </td><td>0.530 </td><td>0.420 </td><td>0.135 </td><td>0.6770</td><td>0.2565</td><td>0.1415</td><td>0.210 </td><td> TRUE </td></tr>\n",
       "\t<tr><td>M     </td><td>0.440 </td><td>0.365 </td><td>0.125 </td><td>0.5160</td><td>0.2155</td><td>0.1140</td><td>0.155 </td><td>FALSE </td></tr>\n",
       "\t<tr><td>I     </td><td>0.330 </td><td>0.255 </td><td>0.080 </td><td>0.2050</td><td>0.0895</td><td>0.0395</td><td>0.055 </td><td> TRUE </td></tr>\n",
       "\t<tr><td>I     </td><td>0.425 </td><td>0.300 </td><td>0.095 </td><td>0.3515</td><td>0.1410</td><td>0.0775</td><td>0.120 </td><td> TRUE </td></tr>\n",
       "\t<tr><td>F     </td><td>0.530 </td><td>0.415 </td><td>0.150 </td><td>0.7775</td><td>0.2370</td><td>0.1415</td><td>0.330 </td><td>FALSE </td></tr>\n",
       "</tbody>\n",
       "</table>\n"
      ],
      "text/latex": [
       "\\begin{tabular}{r|lllllllll}\n",
       " sex & length & diameter & height & whole.weight & shucked.weight & viscera.weight & shell.weight & old\\\\\n",
       "\\hline\n",
       "\t M      & 0.350  & 0.265  & 0.090  & 0.2255 & 0.0995 & 0.0485 & 0.070  &  TRUE \\\\\n",
       "\t F      & 0.530  & 0.420  & 0.135  & 0.6770 & 0.2565 & 0.1415 & 0.210  &  TRUE \\\\\n",
       "\t M      & 0.440  & 0.365  & 0.125  & 0.5160 & 0.2155 & 0.1140 & 0.155  & FALSE \\\\\n",
       "\t I      & 0.330  & 0.255  & 0.080  & 0.2050 & 0.0895 & 0.0395 & 0.055  &  TRUE \\\\\n",
       "\t I      & 0.425  & 0.300  & 0.095  & 0.3515 & 0.1410 & 0.0775 & 0.120  &  TRUE \\\\\n",
       "\t F      & 0.530  & 0.415  & 0.150  & 0.7775 & 0.2370 & 0.1415 & 0.330  & FALSE \\\\\n",
       "\\end{tabular}\n"
      ],
      "text/markdown": [
       "\n",
       "sex | length | diameter | height | whole.weight | shucked.weight | viscera.weight | shell.weight | old | \n",
       "|---|---|---|---|---|---|\n",
       "| M      | 0.350  | 0.265  | 0.090  | 0.2255 | 0.0995 | 0.0485 | 0.070  |  TRUE  | \n",
       "| F      | 0.530  | 0.420  | 0.135  | 0.6770 | 0.2565 | 0.1415 | 0.210  |  TRUE  | \n",
       "| M      | 0.440  | 0.365  | 0.125  | 0.5160 | 0.2155 | 0.1140 | 0.155  | FALSE  | \n",
       "| I      | 0.330  | 0.255  | 0.080  | 0.2050 | 0.0895 | 0.0395 | 0.055  |  TRUE  | \n",
       "| I      | 0.425  | 0.300  | 0.095  | 0.3515 | 0.1410 | 0.0775 | 0.120  |  TRUE  | \n",
       "| F      | 0.530  | 0.415  | 0.150  | 0.7775 | 0.2370 | 0.1415 | 0.330  | FALSE  | \n",
       "\n",
       "\n"
      ],
      "text/plain": [
       "  sex length diameter height whole.weight shucked.weight viscera.weight\n",
       "1 M   0.350  0.265    0.090  0.2255       0.0995         0.0485        \n",
       "2 F   0.530  0.420    0.135  0.6770       0.2565         0.1415        \n",
       "3 M   0.440  0.365    0.125  0.5160       0.2155         0.1140        \n",
       "4 I   0.330  0.255    0.080  0.2050       0.0895         0.0395        \n",
       "5 I   0.425  0.300    0.095  0.3515       0.1410         0.0775        \n",
       "6 F   0.530  0.415    0.150  0.7775       0.2370         0.1415        \n",
       "  shell.weight old  \n",
       "1 0.070         TRUE\n",
       "2 0.210         TRUE\n",
       "3 0.155        FALSE\n",
       "4 0.055         TRUE\n",
       "5 0.120         TRUE\n",
       "6 0.330        FALSE"
      ]
     },
     "metadata": {},
     "output_type": "display_data"
    }
   ],
   "source": [
    "# load in packages\n",
    "library(caret)\n",
    "library(ranger)\n",
    "library(dplyr)\n",
    "library(e1071)\n",
    "# load in abalone dataset\n",
    "abalone_train <- read.csv(\"abalone-training.csv\")\n",
    "abalone_test <- read.csv(\"abalone-test.csv\")\n",
    "head(abalone_train)"
   ]
  },
  {
   "cell_type": "code",
   "execution_count": null,
   "metadata": {
    "collapsed": false
   },
   "outputs": [],
   "source": [
    "# fit a random forest model (using ranger)\n",
    "rf_fit <- train(factor(old) ~ ., \n",
    "                data = abalone_train, \n",
    "                method = \"ranger\")"
   ]
  },
  {
   "cell_type": "markdown",
   "metadata": {},
   "source": [
    "By default, the `train` function without any arguments re-runs the model over 25 bootstrap samples and across 3 options of the tuning parameter (the tuning parameter for `ranger` is `mtry`; the number of randomly selected predictors at each cut in the tree."
   ]
  },
  {
   "cell_type": "code",
   "execution_count": null,
   "metadata": {
    "collapsed": false
   },
   "outputs": [],
   "source": [
    "rf_fit"
   ]
  },
  {
   "cell_type": "markdown",
   "metadata": {},
   "source": [
    "To test the data on an independent test set is equally as simple using the inbuilt `predict` function."
   ]
  },
  {
   "cell_type": "code",
   "execution_count": null,
   "metadata": {
    "collapsed": false
   },
   "outputs": [],
   "source": [
    "# predict the outcome on a test set\n",
    "abalone_rf_pred <- predict(rf_fit, abalone_test)\n",
    "# compare predicted outcome and true outcome\n",
    "confusionMatrix(abalone_rf_pred, abalone_test$old)"
   ]
  },
  {
   "cell_type": "markdown",
   "metadata": {},
   "source": [
    "# Getting a little fancier with caret\n",
    "\n",
    "We have now seen how to fit a model along with the default resampling implementation (bootstrapping) and parameter selection. While this is great, there are many more things we could do with caret. "
   ]
  },
  {
   "cell_type": "markdown",
   "metadata": {},
   "source": [
    "# Pre-processing (`preProcess`)"
   ]
  },
  {
   "cell_type": "markdown",
   "metadata": {},
   "source": [
    "There are a number of pre-processing steps that are easily implemented by caret. Several stand-alone functions from caret target specific issues that might arise when setting up the model. These include\n",
    "\n",
    "* `dummyVars`: creating dummy variables from categorical varibales with multiple categories\n",
    "\n",
    "* `nearZeroVar`: identifying zero- and near zero-variance predictors (these may cause issues when subsampling)\n",
    "\n",
    "* `findCorrelation`: identifying correlated predictors\n",
    "\n",
    "* `findLinearCombos`: identify linear dependencies between predictors\n",
    "\n",
    "In addition to these individual functions, there also exists the **`preProcess`** function which can be used to perform more common tasks such as centering and scaling, imputation and transformation. `preProcess` takes in a data frame to be processed and a method which can be any of \"BoxCox\", \"YeoJohnson\", \"expoTrans\", \"center\", \"scale\", \"range\", \"knnImpute\", \"bagImpute\", \"medianImpute\", \"pca\", \"ica\", \"spatialSign\", \"corr\", \"zv\", \"nzv\", and \"conditionalX\".\n"
   ]
  },
  {
   "cell_type": "code",
   "execution_count": null,
   "metadata": {
    "collapsed": false
   },
   "outputs": [],
   "source": [
    "# center, scale and perform a YeoJohnson transformation\n",
    "# identify and remove variables with near zero variance\n",
    "# perform pca\n",
    "abalone_no_nzv_pca <- preProcess(select(abalone_train, - old), \n",
    "                        method = c(\"center\", \"scale\", \"YeoJohnson\", \"nzv\", \"pca\"))\n",
    "abalone_no_nzv_pca"
   ]
  },
  {
   "cell_type": "code",
   "execution_count": null,
   "metadata": {
    "collapsed": false
   },
   "outputs": [],
   "source": [
    "# identify which variables were ignored, centered, scaled, etc\n",
    "abalone_no_nzv_pca$method"
   ]
  },
  {
   "cell_type": "code",
   "execution_count": null,
   "metadata": {
    "collapsed": false
   },
   "outputs": [],
   "source": [
    "# identify the principal components\n",
    "abalone_no_nzv_pca$rotation"
   ]
  },
  {
   "cell_type": "markdown",
   "metadata": {},
   "source": [
    "# Data splitting (`createDataPartition` and `groupKFold`)\n",
    "\n",
    "Generating subsets of the data is easy with the **`createDataPartition`** function. While this function can be used to simply generate training and testing sets, it can also be used to subset the data while respecting important groupings that exist within the data.\n",
    "\n",
    "First, we show an example of performing general sample splitting to generate 10 different 80% subsamples"
   ]
  },
  {
   "cell_type": "code",
   "execution_count": null,
   "metadata": {
    "collapsed": false
   },
   "outputs": [],
   "source": [
    "# identify the indices of 10 80% subsamples of the iris data\n",
    "train_index <- createDataPartition(iris$Species,\n",
    "                                   p = 0.8,\n",
    "                                   list = FALSE,\n",
    "                                   times = 10)"
   ]
  },
  {
   "cell_type": "code",
   "execution_count": null,
   "metadata": {
    "collapsed": false
   },
   "outputs": [],
   "source": [
    "# look at the first 6 indices of each subsample\n",
    "head(train_index)"
   ]
  },
  {
   "cell_type": "markdown",
   "metadata": {},
   "source": [
    "While the above is incredibly useful, it is also very easy to do using a for loop. Not so exciting.\n",
    "\n",
    "\n",
    "Something that IS more exciting is the ability to do K-fold cross validation which respects groupings in the data. The **`groupKFold`** function does just that! "
   ]
  },
  {
   "cell_type": "markdown",
   "metadata": {},
   "source": [
    "As an example, let's consider the following madeup abalone groups so that each sequential set of 5 abalone that appear in the dataset together are in the same group. For simplicity we will only consider the first 50 abalone."
   ]
  },
  {
   "cell_type": "code",
   "execution_count": null,
   "metadata": {
    "collapsed": false
   },
   "outputs": [],
   "source": [
    "abalone_grouped <- cbind(abalone_train[1:50, ], group = rep(1:10, each = 5))\n",
    "head(abalone_grouped, 10)"
   ]
  },
  {
   "cell_type": "markdown",
   "metadata": {},
   "source": [
    "The following code performs 10-fold cross-validation while respecting the groups in the abalone data. That is, each group of abalone must always appear in the same group together."
   ]
  },
  {
   "cell_type": "code",
   "execution_count": null,
   "metadata": {
    "collapsed": false
   },
   "outputs": [],
   "source": [
    "group_folds <- groupKFold(abalone_grouped$group, k = 10)\n",
    "group_folds"
   ]
  },
  {
   "cell_type": "markdown",
   "metadata": {},
   "source": [
    "# Resampling options (`trainControl`)\n",
    "\n",
    "One of the most important part of training ML models is tuning parammeters. You can use the **`trainControl`** function to specify a number of parameters (including sampling parameters) in your model. The object that is outputted from `trainControl` will be provided as an argument for `train`."
   ]
  },
  {
   "cell_type": "code",
   "execution_count": null,
   "metadata": {
    "collapsed": false
   },
   "outputs": [],
   "source": [
    "set.seed(998)\n",
    "# create a testing and training set\n",
    "in_training <- createDataPartition(abalone_train$old, p = .75, list = FALSE)\n",
    "training <- abalone_train[ in_training,]\n",
    "testing  <- abalone_train[-in_training,]"
   ]
  },
  {
   "cell_type": "code",
   "execution_count": null,
   "metadata": {
    "collapsed": true
   },
   "outputs": [],
   "source": [
    "# specify that the resampling method is \n",
    "fit_control <- trainControl(## 10-fold CV\n",
    "                           method = \"cv\",\n",
    "                           number = 10)"
   ]
  },
  {
   "cell_type": "code",
   "execution_count": null,
   "metadata": {
    "collapsed": false
   },
   "outputs": [],
   "source": [
    "# run a random forest model\n",
    "set.seed(825)\n",
    "rf_fit <- train(as.factor(old) ~ ., \n",
    "                data = abalone_train, \n",
    "                method = \"ranger\",\n",
    "                trControl = fit_control)\n",
    "rf_fit"
   ]
  },
  {
   "cell_type": "markdown",
   "metadata": {},
   "source": [
    "We could instead use our **grouped folds** (rather than random CV folds) by assigning the `index` argument of `trainControl` to be `grouped_folds`."
   ]
  },
  {
   "cell_type": "code",
   "execution_count": null,
   "metadata": {
    "collapsed": false
   },
   "outputs": [],
   "source": [
    "# specify that the resampling method is \n",
    "group_fit_control <- trainControl(## use grouped CV folds\n",
    "                                  index = group_folds,\n",
    "                                  method = \"cv\",\n",
    "                                  number = 10)\n",
    "set.seed(825)\n",
    "rf_fit <- train(as.factor(old) ~ ., \n",
    "                data = select(abalone_grouped, - group), \n",
    "                method = \"ranger\",\n",
    "                trControl = group_fit_control)\n"
   ]
  },
  {
   "cell_type": "code",
   "execution_count": null,
   "metadata": {
    "collapsed": false
   },
   "outputs": [],
   "source": [
    "rf_fit"
   ]
  },
  {
   "cell_type": "markdown",
   "metadata": {},
   "source": [
    "You can also pass functions to `trainControl` that would have otherwise been passed to `preProcess`."
   ]
  },
  {
   "cell_type": "markdown",
   "metadata": {},
   "source": [
    "# Model parameter tuning options (`tuneGrid = `)"
   ]
  },
  {
   "cell_type": "markdown",
   "metadata": {},
   "source": [
    "You could spceify your own tuning grid for model parameters using the `tuneGrid` argument of the `train` function. For example, you can define a grid of parameter combinations."
   ]
  },
  {
   "cell_type": "code",
   "execution_count": null,
   "metadata": {
    "collapsed": false,
    "scrolled": false
   },
   "outputs": [],
   "source": [
    "# define a grid of parameter options to try\n",
    "rf_grid <- expand.grid(mtry = c(2, 3, 4, 5),\n",
    "                      splitrule = c(\"gini\", \"extratrees\"))\n",
    "# re-fit the model with the parameter grid\n",
    "rf_fit <- train(as.factor(old) ~ ., \n",
    "                data = select(abalone_grouped, - group), \n",
    "                method = \"ranger\",\n",
    "                trControl = group_fit_control,\n",
    "                # provide a grid of parameters\n",
    "                tuneGrid = rf_grid)\n",
    "rf_fit"
   ]
  },
  {
   "cell_type": "markdown",
   "metadata": {},
   "source": [
    "# Advanced topics\n",
    "\n",
    "This tutorial has only scratched the surface of all of the options in the caret package. To find out more, see the extensive vignette https://topepo.github.io/caret/index.html."
   ]
  }
 ],
 "metadata": {
  "kernelspec": {
   "display_name": "R",
   "language": "R",
   "name": "ir"
  },
  "language_info": {
   "codemirror_mode": "r",
   "file_extension": ".r",
   "mimetype": "text/x-r-source",
   "name": "R",
   "pygments_lexer": "r",
   "version": "3.3.2"
  }
 },
 "nbformat": 4,
 "nbformat_minor": 2
}
